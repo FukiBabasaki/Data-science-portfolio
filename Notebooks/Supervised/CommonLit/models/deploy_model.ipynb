{
 "cells": [
  {
   "cell_type": "code",
   "execution_count": 7,
   "source": [
    "import pickle, os\n",
    "import xgboost\n",
    "final_model = pickle.load(open(os.path.join('..', \"models\", \"xgb_final.sav\"), 'rb'))"
   ],
   "outputs": [],
   "metadata": {}
  },
  {
   "cell_type": "code",
   "execution_count": 8,
   "source": [
    "from azureml.core import Workspace\n",
    "ws = Workspace.from_config(path = os.path.join('..', 'config', 'config.json'))\n",
    "print(ws)"
   ],
   "outputs": [
    {
     "output_type": "stream",
     "name": "stdout",
     "text": [
      "Workspace.create(name='MSA-Phase2-Model', subscription_id='98860fb8-bddb-408a-8946-5bf9c599f8f7', resource_group='MSA-Phase-2-Model-Deployment')\n"
     ]
    }
   ],
   "metadata": {}
  },
  {
   "cell_type": "code",
   "execution_count": 10,
   "source": [
    "from azureml.core.model import Model\n",
    "\n",
    "# model = Model.register(ws, model_name = \"lit_xgboost\", model_path='xgb_final.sav')\n",
    "model = Model(ws, id='lit_xgboost:1')"
   ],
   "outputs": [],
   "metadata": {}
  },
  {
   "cell_type": "code",
   "execution_count": 9,
   "source": [
    "from azureml.core import Environment\n",
    "from azureml.core.conda_dependencies import CondaDependencies\n",
    "from azureml.core.model import InferenceConfig\n",
    "\n",
    " \n",
    "env = Environment(name = \"xgboost\")\n",
    "conda_dep = CondaDependencies()\n",
    "conda_dep.add_conda_package(\"numpy\")\n",
    "conda_dep.add_conda_package(\"xgboost\")\n",
    "conda_dep.add_conda_package(\"nltk\")\n",
    "conda_dep.add_conda_package(\"scikit-learn\")\n",
    "conda_dep.add_conda_package(\"pandas\")\n",
    "env.python.conda_dependencies = conda_dep\n",
    "\n",
    "dummy_inference_config = InferenceConfig(\n",
    "    environment = env,\n",
    "    source_directory = \"../source_dir\",\n",
    "    entry_script = \"entry.py\",\n",
    ")"
   ],
   "outputs": [],
   "metadata": {}
  },
  {
   "cell_type": "code",
   "execution_count": 11,
   "source": [
    "from azureml.core.webservice import AciWebservice\n",
    "# NOTE: You may need more CPU or memeory depending on what kinds of model you end up using\n",
    "aci_config = AciWebservice.deploy_configuration(cpu_cores = 1, memory_gb = 1)\n",
    "service = Model.deploy(\n",
    "    ws,\n",
    "    \"xgboost\",\n",
    "    [model],\n",
    "    dummy_inference_config,\n",
    "    aci_config,\n",
    "    overwrite = True,\n",
    ")\n",
    "service.wait_for_deployment(show_output = True)"
   ],
   "outputs": [
    {
     "output_type": "stream",
     "name": "stdout",
     "text": [
      "Tips: You can try get_logs(): https://aka.ms/debugimage#dockerlog or local deployment: https://aka.ms/debugimage#debug-locally to debug if deployment takes longer than 10 minutes.\n",
      "Running\n",
      "2021-09-20 15:33:55+12:00 Creating Container Registry if not exists.\n",
      "2021-09-20 15:33:55+12:00 Registering the environment.\n",
      "2021-09-20 15:33:57+12:00 Generating deployment configuration.\n",
      "2021-09-20 15:33:57+12:00 Use the existing image.\n",
      "2021-09-20 15:33:58+12:00 Submitting deployment to compute.\n",
      "2021-09-20 15:34:06+12:00 Checking the status of deployment xgboost..\n",
      "2021-09-20 15:36:38+12:00 Checking the status of inference endpoint xgboost.\n",
      "Succeeded\n",
      "ACI service creation operation finished, operation \"Succeeded\"\n"
     ]
    }
   ],
   "metadata": {}
  },
  {
   "cell_type": "code",
   "execution_count": 15,
   "source": [
    "import requests\n",
    "import json\n",
    "import pandas as pd\n",
    "uri = service.scoring_uri\n",
    "requests.get(uri)\n",
    "headers = {\"Content-Type\": \"application/json\"}\n",
    "data = pd.DataFrame.from_dict({\"excerpt\": ['hi', \" It's not easy to be honest all the time.\", \"I was born\", \"I hurt someone\", 'Emily, a lonely 32 year old woman,from the small town of Bethlehem, Pennsylvania, who grew up with her parents']})\n",
    "\n",
    "data = data.to_json()\n",
    "\n",
    "response = requests.post(uri, data = data, headers = headers)\n",
    "print(response.json())"
   ],
   "outputs": [
    {
     "output_type": "stream",
     "name": "stdout",
     "text": [
      "[-1.062340497970581, -1.1100631952285767, -1.062340497970581, -1.1092218160629272, -1.3607600927352905]\n"
     ]
    }
   ],
   "metadata": {}
  }
 ],
 "metadata": {
  "orig_nbformat": 4,
  "language_info": {
   "name": "python",
   "version": "3.8.10",
   "mimetype": "text/x-python",
   "codemirror_mode": {
    "name": "ipython",
    "version": 3
   },
   "pygments_lexer": "ipython3",
   "nbconvert_exporter": "python",
   "file_extension": ".py"
  },
  "kernelspec": {
   "name": "python3",
   "display_name": "Python 3.8.10 64-bit ('ml_learn': venv)"
  },
  "interpreter": {
   "hash": "307e5e9e0a904ab58a8a19490087231d6dc0811b7b071ebec0b692b43cfa43b7"
  }
 },
 "nbformat": 4,
 "nbformat_minor": 2
}