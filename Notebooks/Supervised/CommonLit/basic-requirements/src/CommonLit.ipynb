{
 "cells": [
  {
   "cell_type": "markdown",
   "source": [
    "# Data Wrangling"
   ],
   "metadata": {}
  },
  {
   "cell_type": "markdown",
   "source": [
    "## Importing datasets"
   ],
   "metadata": {}
  },
  {
   "cell_type": "code",
   "execution_count": 1,
   "source": [
    "import os\r\n",
    "import pandas as pd\r\n",
    "import numpy as np\r\n",
    "from sklearn.model_selection import train_test_split\r\n",
    "\r\n",
    "cl_train = pd.read_csv(os.path.join(\"dataset\", \"train.csv\"))\r\n",
    "cl_test = pd.read_csv(os.path.join(\"dataset\", \"test.csv\"))"
   ],
   "outputs": [],
   "metadata": {}
  },
  {
   "cell_type": "markdown",
   "source": [
    "## Data Exploration"
   ],
   "metadata": {}
  },
  {
   "cell_type": "code",
   "execution_count": 2,
   "source": [
    "cl_train.head()"
   ],
   "outputs": [
    {
     "output_type": "execute_result",
     "data": {
      "text/html": [
       "<div>\n",
       "<style scoped>\n",
       "    .dataframe tbody tr th:only-of-type {\n",
       "        vertical-align: middle;\n",
       "    }\n",
       "\n",
       "    .dataframe tbody tr th {\n",
       "        vertical-align: top;\n",
       "    }\n",
       "\n",
       "    .dataframe thead th {\n",
       "        text-align: right;\n",
       "    }\n",
       "</style>\n",
       "<table border=\"1\" class=\"dataframe\">\n",
       "  <thead>\n",
       "    <tr style=\"text-align: right;\">\n",
       "      <th></th>\n",
       "      <th>id</th>\n",
       "      <th>url_legal</th>\n",
       "      <th>license</th>\n",
       "      <th>excerpt</th>\n",
       "      <th>target</th>\n",
       "      <th>standard_error</th>\n",
       "    </tr>\n",
       "  </thead>\n",
       "  <tbody>\n",
       "    <tr>\n",
       "      <th>0</th>\n",
       "      <td>c12129c31</td>\n",
       "      <td>NaN</td>\n",
       "      <td>NaN</td>\n",
       "      <td>When the young people returned to the ballroom...</td>\n",
       "      <td>-0.340259</td>\n",
       "      <td>0.464009</td>\n",
       "    </tr>\n",
       "    <tr>\n",
       "      <th>1</th>\n",
       "      <td>85aa80a4c</td>\n",
       "      <td>NaN</td>\n",
       "      <td>NaN</td>\n",
       "      <td>All through dinner time, Mrs. Fayre was somewh...</td>\n",
       "      <td>-0.315372</td>\n",
       "      <td>0.480805</td>\n",
       "    </tr>\n",
       "    <tr>\n",
       "      <th>2</th>\n",
       "      <td>b69ac6792</td>\n",
       "      <td>NaN</td>\n",
       "      <td>NaN</td>\n",
       "      <td>As Roger had predicted, the snow departed as q...</td>\n",
       "      <td>-0.580118</td>\n",
       "      <td>0.476676</td>\n",
       "    </tr>\n",
       "    <tr>\n",
       "      <th>3</th>\n",
       "      <td>dd1000b26</td>\n",
       "      <td>NaN</td>\n",
       "      <td>NaN</td>\n",
       "      <td>And outside before the palace a great garden w...</td>\n",
       "      <td>-1.054013</td>\n",
       "      <td>0.450007</td>\n",
       "    </tr>\n",
       "    <tr>\n",
       "      <th>4</th>\n",
       "      <td>37c1b32fb</td>\n",
       "      <td>NaN</td>\n",
       "      <td>NaN</td>\n",
       "      <td>Once upon a time there were Three Bears who li...</td>\n",
       "      <td>0.247197</td>\n",
       "      <td>0.510845</td>\n",
       "    </tr>\n",
       "  </tbody>\n",
       "</table>\n",
       "</div>"
      ],
      "text/plain": [
       "          id url_legal license  \\\n",
       "0  c12129c31       NaN     NaN   \n",
       "1  85aa80a4c       NaN     NaN   \n",
       "2  b69ac6792       NaN     NaN   \n",
       "3  dd1000b26       NaN     NaN   \n",
       "4  37c1b32fb       NaN     NaN   \n",
       "\n",
       "                                             excerpt    target  standard_error  \n",
       "0  When the young people returned to the ballroom... -0.340259        0.464009  \n",
       "1  All through dinner time, Mrs. Fayre was somewh... -0.315372        0.480805  \n",
       "2  As Roger had predicted, the snow departed as q... -0.580118        0.476676  \n",
       "3  And outside before the palace a great garden w... -1.054013        0.450007  \n",
       "4  Once upon a time there were Three Bears who li...  0.247197        0.510845  "
      ]
     },
     "metadata": {},
     "execution_count": 2
    }
   ],
   "metadata": {}
  },
  {
   "cell_type": "markdown",
   "source": [
    "It looks like we could only use one predictor `excerpt` to predict `target`"
   ],
   "metadata": {}
  },
  {
   "cell_type": "markdown",
   "source": [
    "## Data Cleaning"
   ],
   "metadata": {}
  },
  {
   "cell_type": "markdown",
   "source": [
    "We will use PorterStemmer to stem the sentences in the dataset which strips a suffix of words. LancasterStemmer is dropped because the stemming algorithm is too aggressive causing over-stemming."
   ],
   "metadata": {}
  },
  {
   "cell_type": "code",
   "execution_count": 3,
   "source": [
    "from nltk.stem import PorterStemmer\r\n",
    "from nltk.tokenize import word_tokenize\r\n",
    "\r\n",
    "def stem_sentence(sentence):\r\n",
    "    \"\"\" Given a sentence,\r\n",
    "    modify each word in the sentence to stemmed word.\r\n",
    "    \"\"\"\r\n",
    "    porter = PorterStemmer()\r\n",
    "    words = word_tokenize(sentence)\r\n",
    "    stemmed_words = []\r\n",
    "\r\n",
    "    for word in words:\r\n",
    "        stemmed_words.append(porter.stem(word))\r\n",
    "        stemmed_words.append(\" \")\r\n",
    "\r\n",
    "    return \"\".join(stemmed_words)\r\n",
    "\r\n",
    "def stem_paragraph(paragraph):\r\n",
    "    \"\"\" Given a paragraph\r\n",
    "    return a paragraph whose word is stemmed.\r\n",
    "    \"\"\"\r\n",
    "    stemmed_sentence = []\r\n",
    "    for sentence in paragraph.split(\"\\n\"):\r\n",
    "        stemmed = stem_sentence(sentence)\r\n",
    "        stemmed_sentence.append(stemmed)\r\n",
    "        stemmed_sentence.append(\"\\n\")\r\n",
    "\r\n",
    "    return \"\".join(stemmed_sentence)\r\n",
    "\r\n",
    "def stem_dataset(dataset):\r\n",
    "    # Stem all paragraphs in the dataset\r\n",
    "    dataset_copy = dataset.copy()\r\n",
    "    \r\n",
    "    for index, row in dataset_copy.iterrows():\r\n",
    "        dataset_copy.loc[index, 'clean_excerpt'] = stem_paragraph(row['excerpt'])\r\n",
    "\r\n",
    "    return dataset_copy\r\n",
    "\r\n"
   ],
   "outputs": [],
   "metadata": {}
  },
  {
   "cell_type": "code",
   "execution_count": 4,
   "source": [
    "from sklearn.feature_extraction.text import TfidfVectorizer\r\n",
    "\r\n",
    "def get_X(clean_data):\r\n",
    "    vectorizer = TfidfVectorizer(lowercase=True,token_pattern=r'(?u)\\b[A-Za-z]+\\b',stop_words='english',max_features=2000,strip_accents='unicode')\r\n",
    "    vectorizer.fit(clean_data['clean_excerpt'].values)\r\n",
    "\r\n",
    "    X = pd.DataFrame(columns= range(0, 2000))\r\n",
    "\r\n",
    "    for index, row in clean_data.iterrows():\r\n",
    "        numbers = vectorizer.transform(clean_data['clean_excerpt'][[index]])\r\n",
    "        X = X.append(pd.DataFrame(numbers.toarray()))\r\n",
    "\r\n",
    "    return X"
   ],
   "outputs": [],
   "metadata": {}
  },
  {
   "cell_type": "markdown",
   "source": [
    "# Model Selection"
   ],
   "metadata": {}
  },
  {
   "cell_type": "markdown",
   "source": [
    "Here we will explore several ML models to fit the data.\n",
    "We use k-fold cross validation to determine the (negative) Mean Squared Prediction Error.\n",
    "For evalution of models, I will use cross-validation rather than hold-out methods because the data is not too large and the trend of data might change drastically depending on how the data is split. Also, I'd like to use all the training data to fit a model which cannot be done with hold-out method."
   ],
   "metadata": {}
  },
  {
   "cell_type": "code",
   "execution_count": 5,
   "source": [
    "def summary_scores(scores):\r\n",
    "    print(\"scores:\", scores)\r\n",
    "    print(\"Mean:\", scores.mean())\r\n",
    "    print(\"StdDev\", scores.std())"
   ],
   "outputs": [],
   "metadata": {}
  },
  {
   "cell_type": "markdown",
   "source": [
    "## Random Forest"
   ],
   "metadata": {}
  },
  {
   "cell_type": "code",
   "execution_count": 6,
   "source": [
    "from sklearn.ensemble import RandomForestRegressor\r\n",
    "from sklearn.model_selection import cross_val_score\r\n",
    "\r\n",
    "y = cl_train.loc[:, 'target']\r\n",
    "clean_train = stem_dataset(cl_train)\r\n",
    "X = get_X(clean_train)\r\n",
    "\r\n",
    "forest_reg = RandomForestRegressor()\r\n",
    "scores = cross_val_score(forest_reg, X, y, scoring=\"neg_mean_squared_error\", cv=10)\r\n",
    "\r\n",
    "summary_scores(scores)"
   ],
   "outputs": [
    {
     "output_type": "stream",
     "name": "stdout",
     "text": [
      "scores: [-0.54829039 -0.78331758 -0.76585322 -0.83507622 -0.73874038 -0.82733497\n",
      " -0.92774872 -0.89624048 -0.51306613 -0.72331626]\n",
      "Mean: -0.7558984368568438\n",
      "StdDev 0.12840414473872985\n"
     ]
    }
   ],
   "metadata": {}
  },
  {
   "cell_type": "markdown",
   "source": [
    "## XGBoost"
   ],
   "metadata": {}
  },
  {
   "cell_type": "code",
   "execution_count": 7,
   "source": [
    "from xgboost import XGBRegressor\r\n",
    "\r\n",
    "xgb_reg = XGBRegressor()\r\n",
    "scores = cross_val_score(xgb_reg, X, y, scoring=\"neg_mean_squared_error\", cv=10)\r\n",
    "\r\n",
    "summary_scores(scores)"
   ],
   "outputs": [
    {
     "output_type": "stream",
     "name": "stdout",
     "text": [
      "scores: [-0.60714023 -0.76548463 -0.72409527 -0.72086336 -0.66467657 -0.73704524\n",
      " -0.84123137 -0.87512155 -0.60346959 -0.71691881]\n",
      "Mean: -0.725604660725046\n",
      "StdDev 0.0837910285446129\n"
     ]
    }
   ],
   "metadata": {}
  },
  {
   "cell_type": "markdown",
   "source": [
    "## Elastic Net"
   ],
   "metadata": {}
  },
  {
   "cell_type": "code",
   "execution_count": 8,
   "source": [
    "from sklearn.linear_model import ElasticNet\r\n",
    "elastic_net = ElasticNet(alpha=0.1, l1_ratio=0.5)\r\n",
    "scores = cross_val_score(elastic_net, X, y, scoring=\"neg_mean_squared_error\", cv=10)\r\n",
    "\r\n",
    "summary_scores(scores)"
   ],
   "outputs": [
    {
     "output_type": "stream",
     "name": "stdout",
     "text": [
      "scores: [-0.59897904 -0.94855322 -1.0715376  -1.31934371 -1.08471865 -1.32741218\n",
      " -1.66454245 -1.19868725 -0.53320022 -1.1841688 ]\n",
      "Mean: -1.0931143121188982\n",
      "StdDev 0.32111513854750146\n"
     ]
    }
   ],
   "metadata": {}
  },
  {
   "cell_type": "markdown",
   "source": [
    "# Evaluation\r\n",
    "Looks like random forest regressor and XGBoost seem very promising. We will try fine-tune these models."
   ],
   "metadata": {}
  },
  {
   "cell_type": "markdown",
   "source": [
    "## hyperparameter tuning"
   ],
   "metadata": {}
  },
  {
   "cell_type": "code",
   "execution_count": 9,
   "source": [
    "from sklearn.model_selection import GridSearchCV\r\n",
    "param_grid_rf = [\r\n",
    "    {'n_estimators': [3, 10, 30, 50, 100], 'max_features': [2, 4, 6, 8]},\r\n",
    "    {'bootstrap':[False], 'n_estimators': [3,10], 'max_features': [2, 3, 4]}\r\n",
    "]\r\n",
    "\r\n",
    "grid_search_rf = GridSearchCV(forest_reg, param_grid_rf, cv=10, scoring='neg_mean_squared_error', return_train_score=True)\r\n",
    "grid_search_rf.fit(X, y)\r\n",
    "result = grid_search_rf.cv_results_\r\n",
    "\r\n",
    "min_rmse = min(np.sqrt(-result[\"mean_test_score\"]))\r\n",
    "\r\n",
    "print(f'Minimum RMSE for Random Forest: {min_rmse}')"
   ],
   "outputs": [
    {
     "output_type": "stream",
     "name": "stdout",
     "text": [
      "Minimum RMSE for Random Forest: 0.8613121575635296\n"
     ]
    }
   ],
   "metadata": {}
  },
  {
   "cell_type": "code",
   "execution_count": 10,
   "source": [
    "param_grid_xgb = [\r\n",
    "    {'max_depth': [2, 3, 4, 5, 6], 'learning_rate': [0.1, 0.2, 0.3, 0.5, 0.8]}\r\n",
    "]\r\n",
    "\r\n",
    "grid_search_xgb = GridSearchCV(xgb_reg, param_grid_xgb, cv=10, scoring='neg_mean_squared_error', return_train_score=True)\r\n",
    "grid_search_xgb.fit(X, y)\r\n",
    "result = grid_search_xgb.cv_results_\r\n",
    "result = grid_search_xgb.cv_results_\r\n",
    "\r\n",
    "\r\n",
    "min_rmse = min(np.sqrt(-result[\"mean_test_score\"]))\r\n",
    "\r\n",
    "print(f'Minimum RMSE for XGBoost: {min_rmse}')"
   ],
   "outputs": [
    {
     "output_type": "stream",
     "name": "stdout",
     "text": [
      "Minimum RMSE for XGBoost: 0.8349324496113455\n"
     ]
    }
   ],
   "metadata": {}
  },
  {
   "cell_type": "markdown",
   "source": [
    "I have decided to use XG boost over random forest."
   ],
   "metadata": {}
  },
  {
   "cell_type": "code",
   "execution_count": 59,
   "source": [
    "import pickle\r\n",
    "\r\n",
    "final_model =grid_search_xgb.best_estimator_\r\n",
    "\r\n",
    "pickle.dump(final_model, open(os.path.join(\"models\", \"xgb_final.sav\"), 'wb'))"
   ],
   "outputs": [],
   "metadata": {}
  },
  {
   "cell_type": "markdown",
   "source": [
    "# Submission"
   ],
   "metadata": {}
  },
  {
   "cell_type": "code",
   "execution_count": 58,
   "source": [
    "X_test = get_X(stem_dataset(cl_test))\r\n",
    "final_prediction = final_model.predict(X_test)\r\n",
    "fp = pd.DataFrame(final_prediction, columns=['target'])\r\n",
    "\r\n",
    "output = cl_test[['id']].join(fp)\r\n",
    "\r\n",
    "# output.to_csv(\"output.csv\")"
   ],
   "outputs": [],
   "metadata": {}
  }
 ],
 "metadata": {
  "kernelspec": {
   "name": "python3",
   "display_name": "Python 3.8.7 64-bit ('msa': venv)"
  },
  "language_info": {
   "codemirror_mode": {
    "name": "ipython",
    "version": 3
   },
   "file_extension": ".py",
   "mimetype": "text/x-python",
   "name": "python",
   "nbconvert_exporter": "python",
   "pygments_lexer": "ipython3",
   "version": "3.8.7"
  },
  "interpreter": {
   "hash": "66d534e1a2c2826439d9610ae91462fc6a36137a56de058f5776b53ead75132d"
  }
 },
 "nbformat": 4,
 "nbformat_minor": 5
}